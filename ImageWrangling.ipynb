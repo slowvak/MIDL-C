{
  "nbformat": 4,
  "nbformat_minor": 0,
  "metadata": {
    "colab": {
      "name": "ImageWrangling.ipynb",
      "version": "0.3.2",
      "provenance": [],
      "include_colab_link": true
    },
    "kernelspec": {
      "name": "python3",
      "display_name": "Python 3"
    }
  },
  "cells": [
    {
      "cell_type": "markdown",
      "metadata": {
        "id": "view-in-github",
        "colab_type": "text"
      },
      "source": [
        "<a href=\"https://colab.research.google.com/github/slowvak/MIDL-C/blob/master/ImageWrangling.ipynb\" target=\"_parent\"><img src=\"https://colab.research.google.com/assets/colab-badge.svg\" alt=\"Open In Colab\"/></a>"
      ]
    },
    {
      "cell_type": "code",
      "metadata": {
        "id": "rrAVYlA5TuYQ",
        "colab_type": "code",
        "colab": {}
      },
      "source": [
        "# Cell #1\n",
        "# The first cell (run Cell #1) loads in a few data sets of interest, including: T1Pre, T1Post, T2, CTPre, CTPost. \n",
        "# The MRI images (T1Pre, T1Post, and T2) are each a volume of the brain, and the CT images are an abdomen exam. \n"
      ],
      "execution_count": 0,
      "outputs": []
    }
  ]
}